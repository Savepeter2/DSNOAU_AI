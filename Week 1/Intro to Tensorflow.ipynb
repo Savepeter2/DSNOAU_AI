{
 "cells": [
  {
   "cell_type": "code",
   "execution_count": 1,
   "metadata": {},
   "outputs": [],
   "source": [
    "import tensorflow.compat.v1 as tf #Low level tensorflow"
   ]
  },
  {
   "cell_type": "code",
   "execution_count": 2,
   "metadata": {},
   "outputs": [],
   "source": [
    "tf.disable_eager_execution()  # we want all executions in low level form"
   ]
  },
  {
   "cell_type": "code",
   "execution_count": 3,
   "metadata": {},
   "outputs": [],
   "source": [
    "import warnings\n",
    "warnings.filterwarnings('ignore')"
   ]
  },
  {
   "cell_type": "code",
   "execution_count": 4,
   "metadata": {},
   "outputs": [],
   "source": [
    "import numpy as np"
   ]
  },
  {
   "cell_type": "code",
   "execution_count": 19,
   "metadata": {},
   "outputs": [
    {
     "name": "stdout",
     "output_type": "stream",
     "text": [
      "basic operations with tensorflow variables\n",
      "10560255\n",
      "basic operations with tensorflow variables\n",
      "72\n",
      "Matrix operations with tensorflow\n",
      "[[1. 1. 1. 1. 1. 1. 1. 1.]\n",
      " [1. 1. 1. 1. 1. 1. 1. 1.]\n",
      " [1. 1. 1. 1. 1. 1. 1. 1.]\n",
      " [1. 1. 1. 1. 1. 1. 1. 1.]\n",
      " [1. 1. 1. 1. 1. 1. 1. 1.]\n",
      " [1. 1. 1. 1. 1. 1. 1. 1.]\n",
      " [1. 1. 1. 1. 1. 1. 1. 1.]\n",
      " [1. 1. 1. 1. 1. 1. 1. 1.]]\n",
      "Matrix operations with tensorflow\n",
      "-29.17199999999999 [[-1.26696833 -0.32051282  2.39441931]\n",
      " [ 1.10654052  0.3962704  -2.10475799]\n",
      " [ 0.16454134 -0.0990676  -0.0620458 ]] [[[-1.26696833  0.          0.        ]\n",
      "  [ 0.         -0.32051282  0.        ]\n",
      "  [ 0.          0.          2.39441931]]\n",
      "\n",
      " [[ 1.10654052  0.          0.        ]\n",
      "  [ 0.          0.3962704   0.        ]\n",
      "  [ 0.          0.         -2.10475799]]\n",
      "\n",
      " [[ 0.16454134  0.          0.        ]\n",
      "  [ 0.         -0.0990676   0.        ]\n",
      "  [ 0.          0.         -0.0620458 ]]] [[-1.26696833  1.10654052  0.16454134]\n",
      " [-0.32051282  0.3962704  -0.0990676 ]\n",
      " [ 2.39441931 -2.10475799 -0.0620458 ]]\n",
      "index of maximum of a few numbers\n",
      "1\n",
      "index of minimum of a few numbers\n",
      "0\n",
      "Confusion matrix\n",
      "[[4 2]\n",
      " [3 1]]\n",
      "Placeholders\n",
      "[[3. 4. 5. 6.]]\n",
      "[[ 6.  7.  8. 10.]\n",
      " [ 9. 10. 11. 12.]]\n"
     ]
    }
   ],
   "source": [
    "#Making variables in tensorflow\n",
    "\n",
    "v1 = tf.Variable(57, name = 'v1')   #Note, we're assigning a name when declaring it because the name of this declared variable,\n",
    "v2 = tf.Variable(63, name = 'v2')   #needs to be reflected on the tensorboard. \n",
    "v3 = tf.Variable(1, name = 'v3')\n",
    "v4 = tf.Variable(5, name = 'v4')\n",
    "\n",
    "z = pow(v1, 4) + pow(v2, 2) + v1 * v3 * v4\n",
    "\n",
    "#Declaring constant &broadcasting in tensorflow\n",
    "\n",
    "a1 = tf.constant(3)\n",
    "a2 = a1 + 15\n",
    "a3 = a2 * 4\n",
    "\n",
    "\n",
    "#Matrix Operations with tf\n",
    "\n",
    "#Multiplication.\n",
    "\n",
    "p = tf.ones((8,4))    #2-D tensor of ones(1's) having shape of 8 rows and 4 columns\n",
    "q = tf.zeros((4 , 8))\n",
    "r = tf.ones((8, 8))  \n",
    "\n",
    "y = tf.matmul(p, q) + r\n",
    "\n",
    "#So we want to multiply two matrices p and q, and add the result to r, in order to multiply two matrix , the column of the first\n",
    "#as to be equal to the number of row of the second matrix.. above, p has 4 columns and q has 4 rows, which implies that they can\n",
    "#be multiplied.\n",
    "\n",
    "#Matrix Determinant, Inverse, Diagonal, Transpose\n",
    "\n",
    "arr = np.array([[6.8,7.5,8.0], [8.1,9.2,0.5], [5.1,5.2,4.3]]) # a 4 X 3 array\n",
    "\n",
    "max_dtr = tf.matrix_determinant(arr) \n",
    "\n",
    "max_inverse = tf.matrix_inverse(arr)\n",
    "\n",
    "max_diag = tf.matrix_diag(max_inverse)\n",
    "\n",
    "max_trans = tf.matrix_transpose(max_inverse)\n",
    "\n",
    "#Argmax, Argmin\n",
    "\n",
    "arg_1 = np.array([5.8, 9.0])\n",
    "\n",
    "max_1 = tf.argmax(arg_1, name = 'max_1')\n",
    "min_1 = tf.argmin(arg_1, name = 'min_1')\n",
    "\n",
    "#Confusion Matrix, Random_Uniform, Round\n",
    "\n",
    "rand_1 = tf.random_uniform((10,), minval = 0, maxval = 1) #generates 10 random floats between 0 and 1\n",
    "rand_2 = tf.random_uniform((10,), minval = 0, maxval = 1)\n",
    "\n",
    "y_pred = tf.round(rand_1, 'y_pred') #it rounds off all the floats generated to the nearest integer\n",
    "y_true = tf.round(rand_2, 'y_true')\n",
    "\n",
    "conf_mat = tf.confusion_matrix(y_pred, y_true, name = 'confusion_matrix')\n",
    "\n",
    "#Placeholders\n",
    "\n",
    "A1 = tf.placeholder(tf.float32, shape = (None, 4)) #Placeholder are like inputs to dummy containers, the hold information to\n",
    "B1 = A1 + 2                                        #be processed\n",
    "\n",
    "\n",
    "#SO WE WILL RUN ALL THE ABOVE TENSORS IN SESSIONS.. It is a means of executing tensorflow graphs\n",
    "\n",
    "with tf.Session() as sess:\n",
    "    init = tf.global_variables_initializer()\n",
    "    init.run()\n",
    "    \n",
    "    result_1 = z.eval()\n",
    "    print('basic operations with tensorflow variables')\n",
    "    print(result_1)\n",
    "    \n",
    "    result_2 = a3.eval()\n",
    "    print('basic operations with tensorflow variables')\n",
    "    print(result_2)\n",
    "    \n",
    "    result_3 = y.eval()\n",
    "    print('Matrix operations with tensorflow')\n",
    "    print(result_3)\n",
    "    \n",
    "    result_4 = max_dtr.eval()\n",
    "    result_5 = max_inverse.eval()\n",
    "    result_6 = max_diag.eval()\n",
    "    result_7 = max_trans.eval()\n",
    "    \n",
    "    print('Matrix operations with tensorflow')\n",
    "    print(result_4, result_5, result_6, result_7)\n",
    "    \n",
    "    print('index of maximum of a few numbers')\n",
    "    print(max_1.eval())\n",
    "\n",
    "    print('index of minimum of a few numbers')\n",
    "    print(min_1.eval())\n",
    "\n",
    "    print('Confusion matrix')\n",
    "    print(conf_mat.eval())\n",
    "\n",
    "    b_val = B1.eval(feed_dict={A1:[[1,2,3, 4]]})\n",
    "    b_val_u = B1.eval(feed_dict= {A1:[[4,5,6,8],[7,8,9, 10]]})\n",
    "    print('Placeholders')\n",
    "    print(b_val)\n",
    "    print(b_val_u)\n",
    "\n",
    "\n",
    "\n",
    "\n",
    "\n",
    "\n",
    "\n"
   ]
  },
  {
   "cell_type": "code",
   "execution_count": 5,
   "metadata": {},
   "outputs": [],
   "source": []
  },
  {
   "cell_type": "code",
   "execution_count": 6,
   "metadata": {},
   "outputs": [
    {
     "data": {
      "text/plain": [
       "(2, 3)"
      ]
     },
     "execution_count": 6,
     "metadata": {},
     "output_type": "execute_result"
    }
   ],
   "source": []
  },
  {
   "cell_type": "code",
   "execution_count": null,
   "metadata": {},
   "outputs": [],
   "source": []
  }
 ],
 "metadata": {
  "kernelspec": {
   "display_name": "Python 3",
   "language": "python",
   "name": "python3"
  },
  "language_info": {
   "codemirror_mode": {
    "name": "ipython",
    "version": 3
   },
   "file_extension": ".py",
   "mimetype": "text/x-python",
   "name": "python",
   "nbconvert_exporter": "python",
   "pygments_lexer": "ipython3",
   "version": "3.7.9"
  }
 },
 "nbformat": 4,
 "nbformat_minor": 4
}
